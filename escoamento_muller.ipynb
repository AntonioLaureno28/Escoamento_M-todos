{
 "cells": [
  {
   "cell_type": "code",
   "execution_count": 6,
   "id": "1b896ad2",
   "metadata": {},
   "outputs": [],
   "source": [
    "import numpy as np\n",
    "import matplotlib.pyplot as plt\n",
    "import math\n",
    "import cmath"
   ]
  },
  {
   "cell_type": "markdown",
   "id": "c241f5e5",
   "metadata": {},
   "source": [
    "Função de escoamento utilizando as formulas encontradas em função de Q7"
   ]
  },
  {
   "cell_type": "code",
   "execution_count": 7,
   "id": "4967c421",
   "metadata": {},
   "outputs": [],
   "source": [
    "def funcao_escoamento(Q7):\n",
    "    if not isinstance(Q7, complex) and Q7 < 0:\n",
    "        return float('inf')\n",
    "    try:\n",
    "        sqrt2 = cmath.sqrt(2)\n",
    "        Q6 = sqrt2 * Q7\n",
    "        Q5 = (1 + sqrt2) * Q7\n",
    "        Q4 = cmath.sqrt(5 + 2 * sqrt2) * Q7\n",
    "        Q3 = (1 + sqrt2 + cmath.sqrt(5 + 2 * sqrt2)) * Q7\n",
    "        Q2 = cmath.sqrt(Q3**2 + Q4**2)\n",
    "        return Q2 + Q3 - 1\n",
    "    except (ValueError, TypeError):\n",
    "        return complex(float('inf'), float('inf'))"
   ]
  },
  {
   "cell_type": "markdown",
   "id": "c018e65f",
   "metadata": {},
   "source": [
    "Método de Muller para fazer uma aproximação do valor de Q7"
   ]
  },
  {
   "cell_type": "code",
   "execution_count": 8,
   "id": "2844eeed",
   "metadata": {},
   "outputs": [],
   "source": [
    "def metodo_muller(x0, x1, x2, tol=1e-6, max_iter=100):\n",
    "    p0, p1, p2 = x0, x1, x2\n",
    "\n",
    "    for i in range(max_iter):\n",
    "        f0, f1, f2 = funcao_escoamento(p0), funcao_escoamento(p1), funcao_escoamento(p2)\n",
    "        h1 = p1 - p0\n",
    "        h2 = p2 - p1\n",
    "        if h1 == 0 or h2 == 0:\n",
    "            print(\"Pontos de chute iniciais idênticos\")\n",
    "            return None\n",
    "        delta1 = (f1 - f0) / h1\n",
    "        delta2 = (f2 - f1) / h2\n",
    "        if (h2 + h1) == 0:\n",
    "            print(\"Divisão por zero ao calcular 'a'. O método não pode continuar.\")\n",
    "            return None\n",
    "        a = (delta2 - delta1) / (h2 + h1)\n",
    "        b = a * h2 + delta2\n",
    "        c = f2\n",
    "        \n",
    "        discriminante = (b**2 - 4*a*c)\n",
    "        \n",
    "        if abs(b + cmath.sqrt(discriminante)) > abs(b - cmath.sqrt(discriminante)):\n",
    "            denominador = b + cmath.sqrt(discriminante)\n",
    "        else:\n",
    "            denominador = b - cmath.sqrt(discriminante)\n",
    "            \n",
    "        if denominador == 0:\n",
    "            p3 = p2\n",
    "        else:\n",
    "            p3 = p2 - (2 * c) / denominador\n",
    "        \n",
    "        if abs(p3 - p2) < tol:\n",
    "            return p3.real\n",
    "\n",
    "        p0, p1, p2 = p1, p2, p3\n",
    "\n",
    "    print(\"O método não convergiu\")\n",
    "    return p2.real\n"
   ]
  },
  {
   "cell_type": "markdown",
   "id": "1b1bdb33",
   "metadata": {},
   "source": [
    "Chutes iniciais para o método de muller"
   ]
  },
  {
   "cell_type": "code",
   "execution_count": 9,
   "id": "93f1096a",
   "metadata": {},
   "outputs": [],
   "source": [
    "Q7_chute_1 = 0.1\n",
    "Q7_chute_2 = 0.15\n",
    "Q7_chute_3 = 0.2\n",
    "\n",
    "Q7_result = metodo_muller(Q7_chute_1, Q7_chute_2, Q7_chute_3, tol=1e-6, max_iter=100)"
   ]
  },
  {
   "cell_type": "code",
   "execution_count": 10,
   "id": "3551f7ff",
   "metadata": {},
   "outputs": [
    {
     "name": "stdout",
     "output_type": "stream",
     "text": [
      "Q1 = 1.0\n",
      "Q2 = 0.5316101327347591\n",
      "Q3 = 0.4683898672652408\n",
      "Q4 = 0.25143640442369986\n",
      "Q5 = 0.2169534628415409\n",
      "Q6 = 0.12708839612876735\n",
      "Q7 = 0.08986506671277357\n",
      "Q8 = 0.2169534628415409\n",
      "Q9 = 0.4683898672652408\n",
      "Q10 = 0.9999999999999999\n"
     ]
    }
   ],
   "source": [
    "Q1 = 1.0000\n",
    "Q6_result = math.sqrt(2) * Q7_result\n",
    "Q5_result = (1 + math.sqrt(2)) * Q7_result\n",
    "Q8_result = Q5_result\n",
    "Q4_result = math.sqrt(5 + 2 * math.sqrt(2)) * Q7_result\n",
    "Q3_result = Q4_result + Q5_result\n",
    "Q9_result = Q3_result\n",
    "Q2_result = math.sqrt(Q3_result**2 + Q4_result**2)\n",
    "Q1_result = Q2_result + Q3_result\n",
    "Q10_result = Q1_result\n",
    "\n",
    "print(f'Q1 = {Q1}')\n",
    "print(f'Q2 = {Q2_result}')\n",
    "print(f'Q3 = {Q3_result}')\n",
    "print(f'Q4 = {Q4_result}')\n",
    "print(f'Q5 = {Q5_result}')\n",
    "print(f'Q6 = {Q6_result}')\n",
    "print(f'Q7 = {Q7_result}')\n",
    "print(f'Q8 = {Q8_result}')\n",
    "print(f'Q9 = {Q9_result}')\n",
    "print(f'Q10 = {Q10_result}')\n",
    "\n"
   ]
  }
 ],
 "metadata": {
  "kernelspec": {
   "display_name": "Python 3",
   "language": "python",
   "name": "python3"
  },
  "language_info": {
   "codemirror_mode": {
    "name": "ipython",
    "version": 3
   },
   "file_extension": ".py",
   "mimetype": "text/x-python",
   "name": "python",
   "nbconvert_exporter": "python",
   "pygments_lexer": "ipython3",
   "version": "3.13.3"
  }
 },
 "nbformat": 4,
 "nbformat_minor": 5
}
